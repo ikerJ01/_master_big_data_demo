{
 "cells": [
  {
   "cell_type": "code",
   "execution_count": 1,
   "outputs": [],
   "source": [
    "import re\n",
    "import pandas as pd\n",
    "import numpy as np\n",
    "from datetime import datetime\n",
    "import sys\n",
    "import matplotlib.pyplot as plt\n",
    "import matplotlib.ticker as mticker\n",
    "import seaborn as sns"
   ],
   "metadata": {
    "collapsed": false,
    "pycharm": {
     "name": "#%%\n"
    }
   }
  },
  {
   "cell_type": "markdown",
   "source": [
    "# Análisis A/B Test Remy Martin\n",
    "<b>Especificaciones del estudio:</b><br>\n",
    "<li> Objetivo: El cliente busca actualizar el diseño del producto Remy Martin 1738 (750 ML) y será necesario realizar un test A/B para evaluar el impacto en ventas que conllevaría la actualización de diseño.\n",
    "<li> País: USA\n",
    "<li> Muestra: 800 Encuestados, hombres y mujeres consumidores de cognac mayores de 18 Años\n",
    "<li> Escenarios: Control (current) y 1 Test (new_1)\n",
    "<li> Formato de simulación: Pasillo Virtual correspondiente a la categoría de Cognacs simulando una tienda de licor física. Formato WebGL para ejecución online.\n",
    "\n",
    "<i>Nota: Los datos utilizados en este análisis han sido modificados y no representan datos de un proyecto real. La estructura de la estantería virtual ha sido modificada con el fin de crear una estructura como ejemplo de los procesos de análisis."
   ],
   "metadata": {
    "collapsed": false
   }
  },
  {
   "cell_type": "code",
   "execution_count": 2,
   "metadata": {
    "collapsed": true
   },
   "outputs": [],
   "source": [
    "# Input Settings\n",
    "#----------\n",
    "\n",
    "idProject = 'analysis_demo'\n",
    "main_testing_product = 'Remy Martin 1738'"
   ]
  },
  {
   "cell_type": "code",
   "execution_count": 3,
   "outputs": [],
   "source": [
    "# Executing table source script\n",
    "#----------\n",
    "\n",
    "%run \"01_source_tables.py\""
   ],
   "metadata": {
    "collapsed": false,
    "pycharm": {
     "name": "#%%\n"
    }
   }
  },
  {
   "cell_type": "markdown",
   "source": [
    "## <i>Fase 1: Limpieza de Datos</i>"
   ],
   "metadata": {
    "collapsed": false
   }
  },
  {
   "cell_type": "markdown",
   "source": [
    "Para poder comenzar a realizar el analisis de los datos recolectados, será necesario descartar los encuestados categorizados como ¨Speeder¨ y/o los encuestados que hayan comprado un alto volumen de productos que cumplan la siguientes condiciones.<br><br>\n",
    "<b>Speeders:</b>\n",
    "<li>Como regla genera, en estanterías con menos de 100 products se puede considerar speedster a cualquier encuestado que complete el ejercicio virtual en menos de 15 segundos.<br>\n",
    "<li>El volumen de encuestados categorizados como speedsters a descartar no deberá superar el <b>5% de la muestra</b> por escenario (cell_id).<br><br>\n",
    "<b>Compradores:</b>\n",
    "<li> El volumen de unidades compradas no deberá superar la siguiente condicion: <i>media + 2*Desviación Estandard</i><br>\n",
    "-----------------------------------------------------------------------------------------------------------------------------------"
   ],
   "metadata": {
    "collapsed": false,
    "pycharm": {
     "name": "#%% md\n"
    }
   }
  },
  {
   "cell_type": "markdown",
   "source": [
    "#### Descarte Speedsters:\n",
    "Se evaluará los quantiles 1%, 2%, 5% y 10% para evaluar si la regla de los 15 segundos es compatible con el limte del 5% de la muestra a descartar.<br><br>"
   ],
   "metadata": {
    "collapsed": false
   }
  },
  {
   "cell_type": "code",
   "execution_count": 4,
   "outputs": [
    {
     "name": "stdout",
     "output_type": "stream",
     "text": [
      "cell_id      \n",
      "current  0.01    10.426100\n",
      "         0.02    11.359300\n",
      "         0.05    15.121500\n",
      "         0.10    20.531100\n",
      "new_1    0.01     8.391492\n",
      "         0.02     9.329644\n",
      "         0.05    10.969060\n",
      "         0.10    18.511260\n",
      "Name: timer, dtype: float64\n"
     ]
    }
   ],
   "source": [
    "time_in_store = pd.pivot_table(df_table_states_timer,\n",
    "                               index=['idMaster', 'cell_id', 'survey_id'],\n",
    "                               values='timer',\n",
    "                               aggfunc= sum\n",
    "                               ).reset_index()\n",
    "\n",
    "global_avg_time = time_in_store['timer'].sum() / time_in_store['survey_id'].nunique()\n",
    "\n",
    "print(time_in_store.groupby('cell_id')['timer'].quantile([0.01,0.02,0.05,0.1]))  # Evaluación de quantiles\n"
   ],
   "metadata": {
    "collapsed": false,
    "pycharm": {
     "name": "#%%\n"
    }
   }
  },
  {
   "cell_type": "code",
   "execution_count": 5,
   "outputs": [
    {
     "name": "stdout",
     "output_type": "stream",
     "text": [
      "Visualización sobre el número de encuestados con tiempo inferior a 30 segundos entre escenarios (cell_id).\n",
      "Media global del tiempo en el ejercicio virtual: 93.5 segundos\n"
     ]
    },
    {
     "data": {
      "text/plain": "<Figure size 432x288 with 1 Axes>",
      "image/png": "[encoded data removed]"
     },
     "metadata": {
      "needs_background": "light"
     },
     "output_type": "display_data"
    }
   ],
   "source": [
    "sns.histplot(x = 'timer',\n",
    "             data=time_in_store,\n",
    "             element='poly',\n",
    "             hue='cell_id',\n",
    "             fill=True,\n",
    "             binwidth=5,\n",
    "             binrange=(0,30)\n",
    "             )\n",
    "\n",
    "print(f'Visualización sobre el número de encuestados con tiempo inferior a 30 segundos entre escenarios (cell_id).\\nMedia global del tiempo en el ejercicio virtual: {round(global_avg_time,2)} segundos')\n"
   ],
   "metadata": {
    "collapsed": false,
    "pycharm": {
     "name": "#%%\n"
    }
   }
  },
  {
   "cell_type": "markdown",
   "source": [
    "Se procede a utlizar el quantil 5% cualculado en cada escenario para realizar un descarte homogeno ya que la regla de los 15 segundos daría pie a un desequilibrio en las cuotas puesto que el escenario Test (new_1), descartaría entre el 5% y 10% de la muestra de ese mismo escenario."
   ],
   "metadata": {
    "collapsed": false,
    "pycharm": {
     "name": "#%% md\n"
    }
   }
  },
  {
   "cell_type": "code",
   "execution_count": 6,
   "outputs": [
    {
     "name": "stdout",
     "output_type": "stream",
     "text": [
      "Se descartarán un total de \n",
      "21 encuestados en el escenario current y \n",
      "20 encuestados en el escenario new_1\n"
     ]
    }
   ],
   "source": [
    "quantil_value = 0.05                # Quantil final a utilizar para la limpieza de datos\n",
    "\n",
    "quantiles_by_cell = pd.DataFrame(time_in_store.groupby('cell_id')['timer'].quantile(quantil_value)).reset_index()\n",
    "\n",
    "quantiles_by_cell.rename(columns={'timer': 'timer_limit'}, inplace=True)\n",
    "\n",
    "time_in_store = pd.merge(time_in_store,\n",
    "                         quantiles_by_cell,\n",
    "                         left_on=['cell_id'],\n",
    "                         right_on=['cell_id'],\n",
    "                         how= 'left').reset_index()\n",
    "\n",
    "time_in_store.loc[(time_in_store['timer']\n",
    "                   <= time_in_store['timer_limit']),\n",
    "                  'outlier'] = 1\n",
    "time_in_store.loc[(time_in_store['timer']\n",
    "                   > time_in_store['timer_limit']),\n",
    "                  'outlier'] = 0\n",
    "\n",
    "time_in_store = time_in_store.drop(columns='index')\n",
    "\n",
    "speedsters_outliers = time_in_store[time_in_store['outlier'] == 1]\n",
    "\n",
    "speedsters_outliers = speedsters_outliers.drop(columns=['timer', 'timer_limit'])\n",
    "\n",
    "speedsters_count = pd.DataFrame(speedsters_outliers.groupby('cell_id')['outlier'].sum()).reset_index()\n",
    "\n",
    "print(f'Se descartarán un total de \\n{speedsters_count[\"outlier\"][0].astype(int)} encuestados en el escenario {speedsters_count[\"cell_id\"][0]} y \\n{speedsters_count[\"outlier\"][1].astype(int)} encuestados en el escenario {speedsters_count[\"cell_id\"][1]}')\n",
    "\n"
   ],
   "metadata": {
    "collapsed": false,
    "pycharm": {
     "name": "#%%\n"
    }
   }
  },
  {
   "cell_type": "markdown",
   "source": [
    "#### Descarte Compradores de Alto Volumen:\n",
    "Se evaluará el total de unidades compradas por encuestado y aquellos que hayan superado el límite de la <i><b>media + 2*Desviación Estandard</i></b> serán descartados en el análisis"
   ],
   "metadata": {
    "collapsed": false
   }
  },
  {
   "cell_type": "code",
   "execution_count": 7,
   "outputs": [
    {
     "name": "stdout",
     "output_type": "stream",
     "text": [
      "Se establece el límite de 5 unidades para descartar a los compradores de altos volumenes de productos que puedan distorcionar los resultados.\n",
      "\n",
      "Se descartarán un total de: \n",
      "13 encuestados en el escenario current y \n",
      "11 encuestados en el escenario new_1\n"
     ]
    }
   ],
   "source": [
    "total_purchase = pd.pivot_table(df_table_sales,\n",
    "                               index=['idMaster', 'cell_id', 'survey_id'],\n",
    "                               values='units_sold',\n",
    "                               aggfunc= sum\n",
    "                               ).reset_index()\n",
    "\n",
    "total_respondent_count = total_purchase['survey_id'].nunique()\n",
    "total_units = total_purchase['units_sold'].sum()\n",
    "avg_purchase = total_units / total_respondent_count\n",
    "stDev_purchase = total_purchase['units_sold'].std()\n",
    "total_purchase['purchase_limit'] = round(avg_purchase + (2* stDev_purchase))\n",
    "\n",
    "\n",
    "def sales_outlier(total_purchase):\n",
    "    if total_purchase['units_sold'] > total_purchase['purchase_limit']:\n",
    "        return  1\n",
    "    return 0\n",
    "\n",
    "total_purchase['outlier'] = total_purchase.apply(sales_outlier, axis= 1)\n",
    "\n",
    "purchase_outlier = total_purchase[total_purchase['outlier'] == 1]\n",
    "purchase_outlier = purchase_outlier.drop(columns=['units_sold', 'purchase_limit'])\n",
    "purchase_outlier_count = pd.DataFrame(purchase_outlier.groupby('cell_id')['outlier'].sum()).reset_index()\n",
    "\n",
    "print(f'Se establece el límite de {round(avg_purchase + (2* stDev_purchase))} unidades para descartar a los compradores de altos volumenes de productos que puedan distorcionar los resultados.'\n",
    "      f'\\n\\nSe descartarán un total de: \\n{purchase_outlier_count[\"outlier\"][0].astype(int)} encuestados en el escenario {purchase_outlier_count[\"cell_id\"][0]} y \\n{purchase_outlier_count[\"outlier\"][1].astype(int)} encuestados en el escenario {purchase_outlier_count[\"cell_id\"][1]}')\n"
   ],
   "metadata": {
    "collapsed": false,
    "pycharm": {
     "name": "#%%\n"
    }
   }
  },
  {
   "cell_type": "markdown",
   "source": [
    "Gráficos para visualizar el volumen de ventas totales en base al número de encuestados"
   ],
   "metadata": {
    "collapsed": false
   }
  },
  {
   "cell_type": "code",
   "execution_count": 8,
   "outputs": [
    {
     "name": "stdout",
     "output_type": "stream",
     "text": [
      "Visualización de total de únidades compradas (eje x) por número de encuestados (eje y). \n",
      "Total únidades compradas: 1490. \n",
      "Total encuestados: 798\n"
     ]
    },
    {
     "data": {
      "text/plain": "<Figure size 576x216 with 1 Axes>",
      "image/png": "[encoded data removed]"
     },
     "metadata": {
      "needs_background": "light"
     },
     "output_type": "display_data"
    }
   ],
   "source": [
    "plt.rcParams[\"figure.figsize\"] = (8,3)\n",
    "\n",
    "histogram_sales = sns.histplot(x = 'units_sold',\n",
    "             data=total_purchase,\n",
    "             fill=True,\n",
    "             color='#6acc79',\n",
    "             shrink=3\n",
    "             )\n",
    "\n",
    "histogram_sales.set(xlabel='Compras', ylabel='Encuestados')\n",
    "\n",
    "print(f'Visualización de total de únidades compradas (eje x) por número de encuestados (eje y). \\nTotal únidades compradas: {total_units}. \\nTotal encuestados: {total_respondent_count}')"
   ],
   "metadata": {
    "collapsed": false,
    "pycharm": {
     "name": "#%%\n"
    }
   }
  },
  {
   "cell_type": "code",
   "execution_count": 9,
   "outputs": [
    {
     "name": "stdout",
     "output_type": "stream",
     "text": [
      "Dagrama de caja para la visualización de observaciones atípicas. \n",
      "Límite de descarte: 4.76\n"
     ]
    },
    {
     "data": {
      "text/plain": "<Figure size 576x216 with 1 Axes>",
      "image/png": "[encoded data removed]"
     },
     "metadata": {
      "needs_background": "light"
     },
     "output_type": "display_data"
    }
   ],
   "source": [
    "plt.rcParams[\"figure.figsize\"] = (8,3)\n",
    "boxplot = sns.boxplot(x = 'units_sold',\n",
    "            data = total_purchase,\n",
    "            color ='#6cc7e6',\n",
    "            width = 0.35,\n",
    "            linewidth = 2.5,\n",
    "            whis = 3,\n",
    "            fliersize = 3\n",
    "             )\n",
    "\n",
    "boxplot.set(xlabel='Compras')\n",
    "\n",
    "print(f'Dagrama de caja para la visualización de observaciones atípicas. \\nLímite de descarte: {round(avg_purchase + (2* stDev_purchase), 2)}')"
   ],
   "metadata": {
    "collapsed": false,
    "pycharm": {
     "name": "#%%\n"
    }
   }
  },
  {
   "cell_type": "code",
   "execution_count": 10,
   "outputs": [
    {
     "data": {
      "text/plain": "count    798.000000\nmean       1.867168\nstd        1.444029\nmin        1.000000\n25%        1.000000\n50%        1.000000\n75%        2.000000\nmax       15.000000\nName: units_sold, dtype: float64"
     },
     "execution_count": 10,
     "metadata": {},
     "output_type": "execute_result"
    }
   ],
   "source": [
    "total_purchase['units_sold'].describe()\n"
   ],
   "metadata": {
    "collapsed": false,
    "pycharm": {
     "name": "#%%\n"
    }
   }
  },
  {
   "cell_type": "markdown",
   "source": [
    "#### Listado Final Outliers y Limpieza de Tablas\n",
    "Se procede a concatenar ambas listas (Speedsters + Compradores) y actualizar todas las tablas de la fuente de datos para descartar los outliers."
   ],
   "metadata": {
    "collapsed": false,
    "pycharm": {
     "name": "#%% md\n"
    }
   }
  },
  {
   "cell_type": "code",
   "execution_count": 11,
   "outputs": [
    {
     "name": "stdout",
     "output_type": "stream",
     "text": [
      "Se descartarán un total de: \n",
      "34 encuestados en el escenario current y \n",
      "31 encuestados en el escenario new_1\n"
     ]
    }
   ],
   "source": [
    "final_outliers = pd.concat([speedsters_outliers,purchase_outlier], ignore_index=True)\n",
    "final_outliers.to_csv('final_outliers.csv', index=False)\n",
    "\n",
    "final_outliers_count = pd.DataFrame(final_outliers.groupby('cell_id')['outlier'].sum()).reset_index()\n",
    "\n",
    "print(f'Se descartarán un total de: \\n{final_outliers_count[\"outlier\"][0].astype(int)} encuestados en el escenario {final_outliers_count[\"cell_id\"][0]} y \\n{final_outliers_count[\"outlier\"][1].astype(int)} encuestados en el escenario {final_outliers_count[\"cell_id\"][1]}')\n"
   ],
   "metadata": {
    "collapsed": false,
    "pycharm": {
     "name": "#%%\n"
    }
   }
  },
  {
   "cell_type": "code",
   "execution_count": 12,
   "outputs": [],
   "source": [
    "%run \"02_source_tables_cleanup.py\""
   ],
   "metadata": {
    "collapsed": false,
    "pycharm": {
     "name": "#%%\n"
    }
   }
  },
  {
   "cell_type": "code",
   "execution_count": 13,
   "outputs": [
    {
     "name": "stdout",
     "output_type": "stream",
     "text": [
      "La muestra final, una vez realizada la limpieza de datos, es la siguiente: \n",
      "current: 368 encuestados \n",
      "new_1: 366 encuestados\n"
     ]
    }
   ],
   "source": [
    "final_master_data_count = pd.DataFrame(master_data_df.groupby('cell_id')['survey_id'].nunique()).reset_index()\n",
    "\n",
    "print(f'La muestra final, una vez realizada la limpieza de datos, es la siguiente: \\n{final_master_data_count[\"cell_id\"][0]}: {final_master_data_count[\"survey_id\"][0].astype(int)} encuestados \\n{final_master_data_count[\"cell_id\"][1]}: {final_master_data_count[\"survey_id\"][1].astype(int)} encuestados')"
   ],
   "metadata": {
    "collapsed": false,
    "pycharm": {
     "name": "#%%\n"
    }
   }
  },
  {
   "cell_type": "markdown",
   "source": [
    "#### Ajuste final tabla Views (Cursor Hover)\n",
    "La tabla de views se ajustara en función de la siguientes condiciones:<br>\n",
    "<li> Si el cursor pasa sobre un producto durante más de 0.5 segundos, se considerará el producto como <i>visto</i><br>\n",
    "<li> Si el cursor pasa sobre un producto durante menos de 0.5 segundos pero se hizo click en el product, se considerará el producto como <i>visto</i> y se agregará un tiempo de 0.5 segundos<br>\n",
    "<li> Si se hizo click en un producto, pero no se registro en la recolecta de datos el View, se considerará el producto como <i>visto</i> y se agregará un tiempo de 0.5 segundos<br>"
   ],
   "metadata": {
    "collapsed": false
   }
  },
  {
   "cell_type": "code",
   "execution_count": 14,
   "outputs": [],
   "source": [
    "%run \"03_views_adjustments.py\"\n"
   ],
   "metadata": {
    "collapsed": false,
    "pycharm": {
     "name": "#%%\n"
    }
   }
  },
  {
   "cell_type": "markdown",
   "source": [
    "## <i>Fase 2: Análisis de Datos</i>"
   ],
   "metadata": {
    "collapsed": false
   }
  },
  {
   "cell_type": "markdown",
   "source": [
    "### Análsis de ventas\n",
    "Las siguientes KPIs se utilizarán para evaluar el rendimiento en ventas del producto <b>Remy Martin 1738</b> en los escenarios de control (current) y test (new_1):\n",
    "<li> Top 10 Total Ventas en USD por producto<br>\n",
    "<li> Frequencia de compra de producto como 1era opción<br>\n",
    "<li> Media de tiempo en comprar el 1er producto<br>"
   ],
   "metadata": {
    "collapsed": false
   }
  },
  {
   "cell_type": "markdown",
   "source": [
    "#### Análisis top 10 ventas:\n",
    "El siguiente módulo analizará el impacto en el volumen de USD generado en los 10 productos con mejor rendimiento durante el test para detectar si hubo mejoras en las ventas totales del producto en cuestión y el impacto que haya generado a nivel de ventas totales de la marca y sus competidores.\n"
   ],
   "metadata": {
    "collapsed": false
   }
  },
  {
   "cell_type": "markdown",
   "source": [
    "##### Ventas por producto:\n",
    "______________________________________________________"
   ],
   "metadata": {
    "collapsed": false
   }
  },
  {
   "cell_type": "code",
   "execution_count": 15,
   "outputs": [
    {
     "data": {
      "text/plain": "<Figure size 720x576 with 2 Axes>",
      "image/png": "[encoded data removed]"
     },
     "metadata": {
      "needs_background": "light"
     },
     "output_type": "display_data"
    }
   ],
   "source": [
    "#### Agregado de volumen de ventas por producto\n",
    "#### ____________________________________________________________________________________\n",
    "\n",
    "total_USD_sales = pd.pivot_table(sales_data_clean_df,\n",
    "                                 index=['cell_id','idProduct','brand','description','product_category'],\n",
    "                                 #columns='cell_id',\n",
    "                                 values=['total_spend', 'was_purchased'],\n",
    "                                 aggfunc=sum).reset_index()\n",
    "\n",
    "total_USD_sales.rename(columns={'was_purchased' : 'total_buyers'},inplace=True)\n",
    "total_USD_sales = total_USD_sales.sort_values(['cell_id','total_spend'], ascending=[True, False]).reset_index()\n",
    "\n",
    "#### Calculo del ranking del producto en base al escenario y volumen de ventas en USD\n",
    "#### ____________________________________________________________________________________\n",
    "\n",
    "first_cellId_on_row1 = total_USD_sales['cell_id'].loc[0]\n",
    "\n",
    "df_to_use = total_USD_sales\n",
    "df_column_to_eval = 'cell_id'\n",
    "df_new_variable = 'rank'\n",
    "\n",
    "total_USD_sales[df_new_variable] = 0\n",
    "\n",
    "for i in range(1, len(df_to_use)):\n",
    "    if df_to_use.loc[0, df_column_to_eval] == first_cellId_on_row1:\n",
    "        df_to_use.loc[0, df_new_variable] = 1\n",
    "    if df_to_use.loc[i, df_column_to_eval] != df_to_use.loc[i-1,df_column_to_eval]:\n",
    "        df_to_use.loc[i,df_new_variable] = 1\n",
    "    elif df_to_use.loc[i, df_column_to_eval] == df_to_use.loc[i-1,df_column_to_eval]:\n",
    "        df_to_use.loc[i,df_new_variable] = df_to_use.loc[i-1,df_new_variable] + 1\n",
    "    else:\n",
    "        break\n",
    "\n",
    "#### Filtrado y transformación de datos para visualización gráfica\n",
    "#### ____________________________________________________________________________________\n",
    "top_10_USD_sales = total_USD_sales[total_USD_sales['rank'] <= 10]\n",
    "\n",
    "rm_sales_current = top_10_USD_sales.loc[(top_10_USD_sales['idProduct'] == '75036')\n",
    "                                        & (top_10_USD_sales['cell_id'] == 'current')].reset_index()\n",
    "rm_total_sales_current = rm_sales_current['total_spend'][0]\n",
    "rm_rank_current = rm_sales_current['rank'][0]\n",
    "\n",
    "rm_sales_new_1 = top_10_USD_sales.loc[(top_10_USD_sales['idProduct'] == '75036')\n",
    "                                      & (top_10_USD_sales['cell_id'] == 'new_1')].reset_index()\n",
    "rm_total_sales_new_1 = rm_sales_new_1['total_spend'][0]\n",
    "rm_rank_new_1 = rm_sales_new_1['rank'][0]\n",
    "\n",
    "rm_sales_variation = round(((rm_total_sales_new_1\n",
    "                             - rm_total_sales_current)\n",
    "                             / rm_total_sales_current)*100,\n",
    "                           2)\n",
    "rm_rank_variaton = rm_rank_current - rm_rank_new_1\n",
    "\n",
    "#### Visualización de datos: Ranking 10 products más vendidos\n",
    "#### ____________________________________________________________________________________\n",
    "\n",
    "plt.rcParams[\"figure.figsize\"] = (10,8)\n",
    "fig, axs = plt.subplots(ncols=2)\n",
    "x_label_format = '{:,.0f} USD'\n",
    "\n",
    "chart = sns.barplot(x = 'total_spend',\n",
    "                    y = 'description',\n",
    "                    data=top_10_USD_sales[top_10_USD_sales['cell_id'] == 'current'],\n",
    "                    color='#8abbe3',\n",
    "                    ax=axs[0]\n",
    "             )\n",
    "chart.set(title='Top 10 en Volumen de Ventas. \\nEscenario Current')\n",
    "chart.set(ylabel=None, xlabel=None)\n",
    "chart.tick_params(axis='x', rotation=45)\n",
    "ticks_loc =  chart.get_xticks().tolist()\n",
    "chart.xaxis.set_major_locator(mticker.FixedLocator(ticks_loc))\n",
    "chart = chart.set_xticklabels([x_label_format.format(x) for x in ticks_loc])\n",
    "\n",
    "chart_2 = sns.barplot(x = 'total_spend',\n",
    "                    y = 'description',\n",
    "                    data=top_10_USD_sales[top_10_USD_sales['cell_id'] == 'new_1'],\n",
    "                    color='#8ae3d9',\n",
    "                    ax=axs[1],\n",
    "                    )\n",
    "\n",
    "\n",
    "chart_2.set(title='Top 10 en Volumen de Ventas. \\nEscenario New_1')\n",
    "chart_2.set(ylabel=None, xlabel=None)\n",
    "chart_2.tick_params(axis='y', labelleft=False, labelright=True, rotation=0)\n",
    "chart_2.tick_params(axis='x', rotation=45)\n",
    "ticks_loc =  chart_2.get_xticks().tolist()\n",
    "chart_2.xaxis.set_major_locator(mticker.FixedLocator(ticks_loc))\n",
    "chart_2 = chart_2.set_xticklabels([x_label_format.format(x) for x in ticks_loc])"
   ],
   "metadata": {
    "collapsed": false,
    "pycharm": {
     "name": "#%%\n"
    }
   }
  },
  {
   "cell_type": "code",
   "execution_count": 16,
   "outputs": [
    {
     "name": "stdout",
     "output_type": "stream",
     "text": [
      "La actualización en el diseño del producto Remy Martin 1738 ha tenido un impacto positivo en el volumen de ventas totales: \n",
      "  - Incrementando las ventas en un %24.14 entre el escenario de Control y Test\n",
      "  - Escalando 4 niveles en los top 10 de la lista de más vendidos, pasando a la posición número 6 en el escenario Test.\n"
     ]
    }
   ],
   "source": [
    "print(f'La actualización en el diseño del producto {main_testing_product} ha tenido un impacto positivo en el volumen de ventas totales: '\n",
    "      f'\\n  - Incrementando las ventas en un %{rm_sales_variation} entre el escenario de Control y Test'\n",
    "      f'\\n  - Escalando {rm_rank_variaton} niveles en los top 10 de la lista de más vendidos, pasando a la posición número {rm_rank_new_1} en el escenario Test.')\n"
   ],
   "metadata": {
    "collapsed": false,
    "pycharm": {
     "name": "#%%\n"
    }
   }
  },
  {
   "cell_type": "markdown",
   "source": [
    "#### Evaluación 1era opcion de compra\n",
    "A continuación se evaluará si el nuevo diseño del empaque genera un cambio positivo en la decisión del comprador evaluando la 1era opción de compra.\n",
    "______________________________________________________"
   ],
   "metadata": {
    "collapsed": false,
    "pycharm": {
     "name": "#%% md\n"
    }
   }
  },
  {
   "cell_type": "code",
   "execution_count": 17,
   "outputs": [
    {
     "data": {
      "text/plain": "<Figure size 720x576 with 2 Axes>",
      "image/png": "[encoded data removed]"
     },
     "metadata": {
      "needs_background": "light"
     },
     "output_type": "display_data"
    }
   ],
   "source": [
    "#### Agregado de compradores y tiempo en realizar la 1era compra\n",
    "#### ____________________________________________________________________________________\n",
    "sales_data_1st_purchase = pd.DataFrame(sales_data_clean_df[sales_data_clean_df['sequence_sales'] == 1]).reset_index()\n",
    "\n",
    "sales_data_1st_purchase = pd.pivot_table(sales_data_1st_purchase,\n",
    "                                         index=['cell_id','idProduct','brand','description','product_category'],\n",
    "                                         #columns='cell_id',\n",
    "                                         values=['was_purchased','time_sales'],\n",
    "                                         aggfunc=sum).reset_index()\n",
    "\n",
    "sales_data_1st_purchase.rename(columns={'was_purchased' : 'total_buyers', 'time_sales' : 'total_time_1st_purchase'}, inplace=True)\n",
    "\n",
    "def avg_time_1st_purchase(sales_data_1st_purchase):\n",
    "    return sales_data_1st_purchase['total_time_1st_purchase'] / sales_data_1st_purchase['total_buyers']\n",
    "\n",
    "sales_data_1st_purchase['avg_time_1st_purchase'] = sales_data_1st_purchase.apply(avg_time_1st_purchase, axis=1)\n",
    "\n",
    "sales_data_1st_purchase = sales_data_1st_purchase.sort_values(['cell_id','total_buyers'], ascending=[True, False]).reset_index()\n",
    "\n",
    "\n",
    "#### Calculo del ranking del producto en base al escenario y total eleccion de producto como 1era compra\n",
    "#### ____________________________________________________________________________________\n",
    "\n",
    "first_cellId_on_row1 = sales_data_1st_purchase['cell_id'].loc[0]\n",
    "\n",
    "df_to_use = sales_data_1st_purchase\n",
    "df_column_to_eval = 'cell_id'\n",
    "df_new_variable = 'rank'\n",
    "\n",
    "sales_data_1st_purchase[df_new_variable] = 0\n",
    "\n",
    "for i in range(1, len(df_to_use)):\n",
    "    if df_to_use.loc[0, df_column_to_eval] == first_cellId_on_row1:\n",
    "        df_to_use.loc[0, df_new_variable] = 1\n",
    "    if df_to_use.loc[i, df_column_to_eval] != df_to_use.loc[i-1,df_column_to_eval]:\n",
    "        df_to_use.loc[i,df_new_variable] = 1\n",
    "    elif df_to_use.loc[i, df_column_to_eval] == df_to_use.loc[i-1,df_column_to_eval]:\n",
    "        df_to_use.loc[i,df_new_variable] = df_to_use.loc[i-1,df_new_variable] + 1\n",
    "    else:\n",
    "        break\n",
    "        \n",
    "#### Filtrado y transformación de datos para visualización gráfica\n",
    "#### ____________________________________________________________________________________\n",
    "top_10_1st_purchase = sales_data_1st_purchase[sales_data_1st_purchase['rank'] <= 10]\n",
    "\n",
    "rm_1st_current= top_10_1st_purchase.loc[(top_10_1st_purchase['idProduct'] == '75036')\n",
    "                                        & (top_10_1st_purchase['cell_id'] == 'current')].reset_index()\n",
    "rm_total_1st_current = rm_1st_current['total_buyers'][0]\n",
    "rm_avg_time_1st_current = rm_1st_current['avg_time_1st_purchase'][0]\n",
    "rm_rank_1st_current = rm_1st_current['rank'][0]\n",
    "\n",
    "rm_1st_new_1 = top_10_1st_purchase.loc[(top_10_1st_purchase['idProduct'] == '75036')\n",
    "                                      & (top_10_1st_purchase['cell_id'] == 'new_1')].reset_index()\n",
    "rm_total_1st_new_1 = rm_1st_new_1['total_buyers'][0]\n",
    "rm_avg_time_1st_new_1 = rm_1st_new_1['avg_time_1st_purchase'][0]\n",
    "rm_rank_1st_new_1 = rm_1st_new_1['rank'][0]\n",
    "\n",
    "rm_rank_1st_variaton = rm_rank_1st_current - rm_rank_1st_new_1\n",
    "\n",
    "#### Visualización de datos: Ranking 10 products seleccionados como 1era opción de compra\n",
    "#### ____________________________________________________________________________________\n",
    "\n",
    "plt.rcParams[\"figure.figsize\"] = (10,8)\n",
    "fig, axs = plt.subplots(ncols=2)\n",
    "x_label_format = '{:,.0f}'\n",
    "\n",
    "chart_3 = sns.barplot(x = 'total_buyers',\n",
    "                    y = 'description',\n",
    "                    data=top_10_1st_purchase[top_10_1st_purchase['cell_id'] == 'current'],\n",
    "                    color='#8abbe3',\n",
    "                    ax=axs[0]\n",
    "                    )\n",
    "chart_3.set(title='Número de compradores \\npor 1era Elección de compra. \\n\\nEscenario Current')\n",
    "chart_3.set(ylabel=None)\n",
    "chart_3.tick_params(axis='x', rotation=45)\n",
    "chart_3.set(xlabel='# Compradores')\n",
    "ticks_loc =  chart_3.get_xticks().tolist()\n",
    "chart_3.xaxis.set_major_locator(mticker.FixedLocator(ticks_loc))\n",
    "chart_3 = chart_3.set_xticklabels([x_label_format.format(x) for x in ticks_loc])\n",
    "\n",
    "chart_4 = sns.barplot(x = 'total_buyers',\n",
    "                      y = 'description',\n",
    "                      data=top_10_1st_purchase[top_10_1st_purchase['cell_id'] == 'new_1'],\n",
    "                      color='#8ae3d9',\n",
    "                      ax=axs[1],\n",
    "                      )\n",
    "\n",
    "\n",
    "chart_4.set(title='Número de compradores \\npor 1era Elección de compra. \\n\\nEscenario New_1')\n",
    "chart_4.set(ylabel=None)\n",
    "chart_4.set(xlabel='# Compradores')\n",
    "chart_4.tick_params(axis='y', labelleft=False, labelright=True, rotation=0)\n",
    "chart_4.tick_params(axis='x', rotation=45)\n",
    "ticks_loc =  chart_4.get_xticks().tolist()\n",
    "chart_4.xaxis.set_major_locator(mticker.FixedLocator(ticks_loc))\n",
    "chart_4 = chart_4.set_xticklabels([x_label_format.format(x) for x in ticks_loc])\n",
    "\n"
   ],
   "metadata": {
    "collapsed": false,
    "pycharm": {
     "name": "#%%\n"
    }
   }
  },
  {
   "cell_type": "code",
   "execution_count": 18,
   "outputs": [
    {
     "name": "stdout",
     "output_type": "stream",
     "text": [
      "Al observar las elecciones de producto como 1era compra, se distingue un ligero incremento en el posicionamiento del producto Remy Martin 1738: \n",
      "  - Escalando 1 nivel en los top 10 de la lista de 1era opcion de compra, pasando de la posición 6 a la posición número 5 en el escenario Test.\n",
      "\n",
      "El tiempo medio para realizar la primera compra en el producto Remy Martin 1738 incrementá en el escenario Test a una media de 54.5276. \n",
      "El timpo medio en el escenario Control es de 39.74\n",
      "\n",
      "Sugiriendo un incremento en la dificultad para diferenciar y encontrar el nuevo producto en el planograma.\n"
     ]
    }
   ],
   "source": [
    "print(f'Al observar las elecciones de producto como 1era compra, se distingue un ligero incremento en el posicionamiento del producto {main_testing_product}: '\n",
    "      f'\\n  - Escalando {rm_rank_1st_variaton} nivel en los top 10 de la lista de 1era opcion de compra, pasando de la posición {rm_rank_1st_current} a la posición número {rm_rank_1st_new_1} en el escenario Test.'\n",
    "      f'\\n\\nEl tiempo medio para realizar la primera compra en el producto {main_testing_product} incrementá en el escenario Test a una media de {rm_avg_time_1st_new_1}. '\n",
    "      f'\\nEl timpo medio en el escenario Control es de {round(rm_avg_time_1st_current,2)}'\n",
    "      f'\\n\\nSugiriendo un incremento en la dificultad para diferenciar y encontrar el nuevo producto en el planograma.')\n",
    "\n"
   ],
   "metadata": {
    "collapsed": false,
    "pycharm": {
     "name": "#%%\n"
    }
   }
  },
  {
   "cell_type": "markdown",
   "source": [
    "### Análsis de interacciones (clicks)\n",
    "Las siguientes KPIs se utilizarán para evaluar el rendimiento de las interacciones/clicks del producto <b>Remy Martin 1738</b> en los escenarios de control (current) y test (new_1):\n",
    "<li> Top 10 de productos más seleccionado<br>\n",
    "<li> Media de tiempo viendo la pantalla de producto<br>\n",
    "<li> Conversión de clicks a ventas<br>\n",
    "______________________________________________________"
   ],
   "metadata": {
    "collapsed": false
   }
  },
  {
   "cell_type": "code",
   "execution_count": 19,
   "outputs": [
    {
     "data": {
      "text/plain": "<Figure size 720x576 with 2 Axes>",
      "image/png": "[encoded data removed]"
     },
     "metadata": {
      "needs_background": "light"
     },
     "output_type": "display_data"
    }
   ],
   "source": [
    "#### Agregado de clicks y dwell time por producto\n",
    "#### ____________________________________________________________________________________\n",
    "\n",
    "clicks_by_product = pd.pivot_table(clicks_data_clean_df,\n",
    "                                 index=['cell_id','idProduct','brand','description','product_category'],\n",
    "                                 #columns='cell_id',\n",
    "                                 values=['count_clicks','dwell_time','was_clicked'],\n",
    "                                 aggfunc=sum).reset_index()\n",
    "\n",
    "clicks_by_product.rename(columns={'dwell_time' : 'total_dwell_time', 'was_clicked' : 'total_clickers'}, inplace=True)\n",
    "\n",
    "#### Calculo del tiempo medio en pantalla del producto\n",
    "#### ____________________________________________________________________________________\n",
    "\n",
    "def avg_dwell_time(clicks_by_product):\n",
    "    return clicks_by_product['total_dwell_time'] / clicks_by_product['total_clickers']\n",
    "clicks_by_product['avg_dwell_time'] = clicks_by_product.apply(avg_dwell_time, axis=1)\n",
    "\n",
    "\n",
    "\n",
    "rm_dwell_time_current = clicks_by_product.loc[(clicks_by_product['idProduct'] == '75036')\n",
    "                                                & (clicks_by_product['cell_id'] == 'current')].reset_index()\n",
    "rm_avg_dwell_time_current = round(rm_dwell_time_current['avg_dwell_time'][0],2)\n",
    "\n",
    "\n",
    "rm_dwell_time_new_1 = clicks_by_product.loc[(clicks_by_product['idProduct'] == '75036')\n",
    "                                              & (clicks_by_product['cell_id'] == 'new_1')].reset_index()\n",
    "rm_avg_dwell_time_new_1 = round(rm_dwell_time_new_1['avg_dwell_time'][0],2)\n",
    "\n",
    "rm_dwell_time_variation = round(((rm_avg_dwell_time_new_1\n",
    "                              - rm_avg_dwell_time_current)\n",
    "                             / rm_avg_dwell_time_current)*100,\n",
    "                            2)\n",
    "#### Calculo del ratio de conversión (Total Compradores / Total Clickers)\n",
    "#### ____________________________________________________________________________________\n",
    "\n",
    "r_conversion_current =  round(rm_sales_current['total_buyers'][0] / rm_dwell_time_current['total_clickers'][0],2)*100\n",
    "r_conversion_new_1 =  round(rm_sales_new_1['total_buyers'][0] / rm_dwell_time_new_1['total_clickers'][0],2)*100\n",
    "r_conversion_difference = round(r_conversion_new_1 - r_conversion_current,2)\n",
    "\n",
    "#### Calculo del ranking del producto en base al escenario y total de clicks\n",
    "#### ____________________________________________________________________________________\n",
    "clicks_by_product = clicks_by_product.sort_values(['cell_id','count_clicks'], ascending=[True, False]).reset_index()\n",
    "\n",
    "first_cellId_on_row1 = clicks_by_product['cell_id'].loc[0]\n",
    "df_to_use = clicks_by_product\n",
    "df_column_to_eval = 'cell_id'\n",
    "df_new_variable = 'rank'\n",
    "\n",
    "clicks_by_product[df_new_variable] = 0\n",
    "\n",
    "for i in range(1, len(df_to_use)):\n",
    "    if df_to_use.loc[0, df_column_to_eval] == first_cellId_on_row1:\n",
    "        df_to_use.loc[0, df_new_variable] = 1\n",
    "    if df_to_use.loc[i, df_column_to_eval] != df_to_use.loc[i-1,df_column_to_eval]:\n",
    "        df_to_use.loc[i,df_new_variable] = 1\n",
    "    elif df_to_use.loc[i, df_column_to_eval] == df_to_use.loc[i-1,df_column_to_eval]:\n",
    "        df_to_use.loc[i,df_new_variable] = df_to_use.loc[i-1,df_new_variable] + 1\n",
    "    else:\n",
    "        break\n",
    "\n",
    "#### Filtrado y transformación de datos para visualización gráfica\n",
    "#### ____________________________________________________________________________________\n",
    "top_10_products_clicked = clicks_by_product[clicks_by_product['rank'] <= 10]\n",
    "rm_clicks_current = top_10_products_clicked.loc[(top_10_products_clicked['idProduct'] == '75036')\n",
    "                                        & (top_10_products_clicked['cell_id'] == 'current')].reset_index()\n",
    "rm_total_clicks_current = rm_clicks_current['count_clicks'][0]\n",
    "rm_rank_clicks_current = rm_clicks_current['rank'][0]\n",
    "\n",
    "rm_clicks_new_1 = top_10_products_clicked.loc[(top_10_products_clicked['idProduct'] == '75036')\n",
    "                                      & (top_10_products_clicked['cell_id'] == 'new_1')].reset_index()\n",
    "rm_total_clicks_new_1 = rm_clicks_new_1['count_clicks'][0]\n",
    "rm_rank_clicks_new_1 = rm_clicks_new_1['rank'][0]\n",
    "\n",
    "rm_clicks_variation = round(((rm_total_clicks_new_1\n",
    "                             - rm_total_clicks_current)\n",
    "                            / rm_total_clicks_current)*100,\n",
    "                           2)\n",
    "rm_rank_difference = rm_rank_current - rm_rank_new_1\n",
    "\n",
    "#### Visualización de datos: Ranking 10 products más seleccionados(clicks)\n",
    "#### ____________________________________________________________________________________\n",
    "\n",
    "plt.rcParams[\"figure.figsize\"] = (10,8)\n",
    "fig, axs = plt.subplots(ncols=2)\n",
    "x_label_format = '{:,.0f} Clicks'\n",
    "\n",
    "chart = sns.barplot(x = 'count_clicks',\n",
    "                    y = 'description',\n",
    "                    data=top_10_products_clicked[top_10_products_clicked['cell_id'] == 'current'],\n",
    "                    color='#8abbe3',\n",
    "                    ax=axs[0]\n",
    "                    )\n",
    "chart.set(title='Top 10 Productos Seleccionados. \\n Escenario Control')\n",
    "chart.set(ylabel=None, xlabel=None)\n",
    "chart.tick_params(axis='x', rotation=45)\n",
    "ticks_loc =  chart.get_xticks().tolist()\n",
    "chart.xaxis.set_major_locator(mticker.FixedLocator(ticks_loc))\n",
    "chart = chart.set_xticklabels([x_label_format.format(x) for x in ticks_loc])\n",
    "\n",
    "chart_2 = sns.barplot(x = 'count_clicks',\n",
    "                      y = 'description',\n",
    "                      data=top_10_products_clicked[top_10_products_clicked['cell_id'] == 'new_1'],\n",
    "                      color='#8ae3d9',\n",
    "                      ax=axs[1],\n",
    "                      )\n",
    "\n",
    "\n",
    "chart_2.set(title='Top 10 Productos Seleccionados. \\n Escenario Test')\n",
    "chart_2.set(ylabel=None, xlabel=None)\n",
    "chart_2.tick_params(axis='y', labelleft=False, labelright=True, rotation=0)\n",
    "chart_2.tick_params(axis='x', rotation=45)\n",
    "ticks_loc =  chart_2.get_xticks().tolist()\n",
    "chart_2.xaxis.set_major_locator(mticker.FixedLocator(ticks_loc))\n",
    "chart_2 = chart_2.set_xticklabels([x_label_format.format(x) for x in ticks_loc])"
   ],
   "metadata": {
    "collapsed": false,
    "pycharm": {
     "name": "#%%\n"
    }
   }
  },
  {
   "cell_type": "code",
   "execution_count": 20,
   "outputs": [
    {
     "name": "stdout",
     "output_type": "stream",
     "text": [
      "> A nivel de interacciones (clicks por producto), se observa que el producto en cuestion se encuentra entre los 10 productos con mayor nivel de interaccion \n",
      "presentando una mejora en el ranking de clicks en el escenario Test,  escalando de la posición 6 en el escenario Control, a la posición número 5 en el escenario Test. \n",
      "\n",
      "> El tiempo medio en pantalla del producto en el escenario Test mejora en un %41.19 con respecto al escenario Control, \n",
      " con una media de 7.37 segundos visualizando el producto en Test y 5.22 segundos en Control.\n",
      "\n",
      "> Cabe destacar que el nuevo diseño del producto Remy Martin 1738 induce a una mayor conversión en ventas, \n",
      " aumentando en un %5.0 el ratio de conversión con respecto al escenario de Control, logrando una conversión total del %88.0 \n",
      "\n",
      "\n"
     ]
    }
   ],
   "source": [
    "print(f'> A nivel de interacciones (clicks por producto), se observa que el producto en cuestion se encuentra entre los 10 productos con mayor nivel de interaccion '\n",
    "      f'\\npresentando una mejora en el ranking de clicks en el escenario Test,  escalando de la posición {rm_rank_clicks_current} en el escenario Control, a la posición número {rm_rank_clicks_new_1} en el escenario Test. '\n",
    "      f'\\n\\n> El tiempo medio en pantalla del producto en el escenario Test mejora en un %{rm_dwell_time_variation} con respecto al escenario Control, '\n",
    "      f'\\n con una media de {rm_avg_dwell_time_new_1} segundos visualizando el producto en Test y {rm_avg_dwell_time_current} segundos en Control.'\n",
    "      f'\\n\\n> Cabe destacar que el nuevo diseño del producto {main_testing_product} induce a una mayor conversión en ventas, '\n",
    "      f'\\n aumentando en un %{r_conversion_difference} el ratio de conversión con respecto al escenario de Control, logrando una conversión total del %{r_conversion_new_1} '\n",
    "      f'\\n\\n')\n",
    "\n"
   ],
   "metadata": {
    "collapsed": false,
    "pycharm": {
     "name": "#%%\n"
    }
   }
  },
  {
   "cell_type": "markdown",
   "source": [
    "### Análsis de ejercicio Findability\n",
    "Todos los encuestados participaron en un ejercicio adicional en el cual se les solicitaba encontrar el product Remy Martin 1738 en la estantería.\n",
    "<br> Se registro el tiempo total que tardaron en realizar una seleccion y si el producto seleccionado era el correcto o no.\n",
    "<br><br>Las siguientes KPIs se utilizarán para evaluar el rendimiento del producto del cliente en los escenarios de control (current) y test (new_1):\n",
    "<li> Total de selecciones correctas por escenario<br>\n",
    "<li> Media de tiempo en encontrar el producto correcto<br>\n",
    "\n",
    "______________________________________________________"
   ],
   "metadata": {
    "collapsed": false,
    "pycharm": {
     "name": "#%% md\n"
    }
   }
  },
  {
   "cell_type": "code",
   "execution_count": 21,
   "outputs": [
    {
     "data": {
      "text/plain": "<Figure size 720x576 with 2 Axes>",
      "image/png": "[encoded data removed]"
     },
     "metadata": {
      "needs_background": "light"
     },
     "output_type": "display_data"
    }
   ],
   "source": [
    "#### Agregado de selecciones, temporizador y tamaño de la muestra por producto y escenario\n",
    "#### ____________________________________________________________________________________\n",
    "\n",
    "findability_by_idProduct = pd.pivot_table(findability_data_clean_df,\n",
    "                                   index=['cell_id','idProduct','brand','description','product_category'],\n",
    "                                   #columns='cell_id',\n",
    "                                   values=['validator','timer_findability'],\n",
    "                                   aggfunc=['count',np.mean]).reset_index()\n",
    "\n",
    "findability_by_idProduct.drop(('count', 'timer_findability'), axis=1, inplace=True)\n",
    "findability_by_idProduct.drop(('mean', 'validator'), axis=1, inplace=True)\n",
    "\n",
    "findability_by_idProduct.columns = [f'{i}: {j}' if j != '' else f'{i}' for i,j in findability_by_idProduct.columns]\n",
    "\n",
    "findability_by_idProduct = findability_by_idProduct.sort_values(['cell_id', 'count: validator'],ascending=[True,False]).reset_index(drop=True)\n",
    "\n",
    "\n",
    "findability_by_idProduct = pd.merge(final_master_data_count,\n",
    "                 findability_by_idProduct,\n",
    "                 left_on='cell_id',\n",
    "                 right_on='cell_id')\n",
    "\n",
    "findability_by_idProduct.rename(columns={'survey_id' : 'sample_size'}, inplace=True)\n",
    "\n",
    "findability_by_idProduct = findability_by_idProduct.assign(pct_of_total = lambda x: (findability_by_idProduct['count: validator']\n",
    "                                                                                     / findability_by_idProduct['sample_size'])\n",
    "                                                                                     *100)\n",
    "\n",
    "#### Calculo de las metricas principales\n",
    "#### ____________________________________________________________________________________\n",
    "\n",
    "rm_find_current = findability_by_idProduct.loc[(findability_by_idProduct['idProduct'] == '75036')\n",
    "                                              & (findability_by_idProduct['cell_id'] == 'current')].reset_index()\n",
    "rm_avg_find_time_current = round(rm_find_current['mean: timer_findability'][0],2)\n",
    "rm_total_finds_current = round(rm_find_current['pct_of_total'][0],2)\n",
    "\n",
    "rm_find_new_1 = findability_by_idProduct.loc[(findability_by_idProduct['idProduct'] == '75036')\n",
    "                                               & (findability_by_idProduct['cell_id'] == 'new_1')].reset_index()\n",
    "rm_avg_find_time_new_1 = round(rm_find_new_1['mean: timer_findability'][0],2)\n",
    "rm_total_finds_new_1 = round(rm_find_new_1['pct_of_total'][0],2)\n",
    "\n",
    "\n",
    "\n",
    "rm_avg_time_variation = round(((rm_avg_find_time_new_1\n",
    "                                  - rm_avg_find_time_current)\n",
    "                                 / rm_avg_find_time_current)*100,\n",
    "                                2)\n",
    "\n",
    "#### Calculo del ranking del producto\n",
    "#### ____________________________________________________________________________________\n",
    "\n",
    "first_cellId_on_row1 = findability_by_idProduct['cell_id'].loc[0]\n",
    "\n",
    "df_to_use = findability_by_idProduct\n",
    "df_column_to_eval = 'cell_id'\n",
    "df_new_variable = 'rank'\n",
    "\n",
    "total_USD_sales[df_new_variable] = 0\n",
    "\n",
    "for i in range(1, len(df_to_use)):\n",
    "    if df_to_use.loc[0, df_column_to_eval] == first_cellId_on_row1:\n",
    "        df_to_use.loc[0, df_new_variable] = 1\n",
    "    if df_to_use.loc[i, df_column_to_eval] != df_to_use.loc[i-1,df_column_to_eval]:\n",
    "        df_to_use.loc[i,df_new_variable] = 1\n",
    "    elif df_to_use.loc[i, df_column_to_eval] == df_to_use.loc[i-1,df_column_to_eval]:\n",
    "        df_to_use.loc[i,df_new_variable] = df_to_use.loc[i-1,df_new_variable] + 1\n",
    "    else:\n",
    "        break\n",
    "\n",
    "\n",
    "#### Visualización de datos: Ranking 10 products más seleccionados(clicks)\n",
    "#### ____________________________________________________________________________________\n",
    "\n",
    "plt.rcParams[\"figure.figsize\"] = (10,8)\n",
    "fig, axs = plt.subplots(ncols=2)\n",
    "x_label_format = '{:,.0f} %'\n",
    "\n",
    "chart_5 = sns.barplot(x = 'pct_of_total',\n",
    "                    y = 'description',\n",
    "                    data=findability_by_idProduct[(findability_by_idProduct['cell_id'] == 'current') & (findability_by_idProduct['rank'] <= 5)],\n",
    "                    color='#8abbe3',\n",
    "                    ax=axs[0]\n",
    "                    )\n",
    "chart_5.set(title='Top 5 Productos Findability. \\n Escenario Control')\n",
    "chart_5.set(ylabel=None, xlabel=None)\n",
    "chart_5.tick_params(axis='x', rotation=45)\n",
    "chart_5.set(xlabel='% de la muestra Control')\n",
    "ticks_loc =  chart_5.get_xticks().tolist()\n",
    "chart_5.xaxis.set_major_locator(mticker.FixedLocator(ticks_loc))\n",
    "chart_5 = chart_5.set_xticklabels([x_label_format.format(x) for x in ticks_loc])\n",
    "\n",
    "chart_6 = sns.barplot(x = 'pct_of_total',\n",
    "                      y = 'description',\n",
    "                      data=findability_by_idProduct[(findability_by_idProduct['cell_id'] == 'new_1') & (findability_by_idProduct['rank'] <= 5)],\n",
    "                      color='#8ae3d9',\n",
    "                      ax=axs[1],\n",
    "                      )\n",
    "\n",
    "\n",
    "chart_6.set(title='Top 5 Productos Findability. \\n Escenario Test')\n",
    "chart_6.set(ylabel=None) #xlabel=None)\n",
    "chart_6.set(xlabel='% de la muestra Test')\n",
    "chart_6.tick_params(axis='y', labelleft=False, labelright=True, rotation=0)\n",
    "chart_6.tick_params(axis='x', rotation=45)\n",
    "ticks_loc =  chart_6.get_xticks().tolist()\n",
    "chart_6.xaxis.set_major_locator(mticker.FixedLocator(ticks_loc))\n",
    "chart_6 = chart_6.set_xticklabels([x_label_format.format(x) for x in ticks_loc])\n"
   ],
   "metadata": {
    "collapsed": false,
    "pycharm": {
     "name": "#%%\n"
    }
   }
  },
  {
   "cell_type": "code",
   "execution_count": 22,
   "outputs": [
    {
     "name": "stdout",
     "output_type": "stream",
     "text": [
      "Los resultados arrojados por el ejercicio \"Findability\" indican un mayor grado de dificultad para el consumidor al buscar y encontrar el nuevo diseño del \n",
      "producto Remy Martin 1738 en el planograma. \n",
      "> En el escenario de control, el %78.8 de la muestra logro encontrar el producto con una media de tiempo de 19.42 segundos.\n",
      "> En el escenario test, el %63.39 de la muestra logro encontrar el producto con una media de tiempo de 32.46 segundos.\n",
      "\n",
      " Como se puede observar, el porcentaje total de usuarios que encontaron el producto cae en un %15.41 y la media de tiempo para encontrar\n",
      " el producto sube en 13.04 segundos, incrementando en un %67.15 sobre el escenario de control.\n"
     ]
    }
   ],
   "source": [
    "print(f'Los resultados arrojados por el ejercicio \"Findability\" indican un mayor grado de dificultad para el consumidor al buscar y encontrar el nuevo diseño del '\n",
    "      f'\\nproducto {main_testing_product} en el planograma. '\n",
    "      f'\\n> En el escenario de control, el %{rm_total_finds_current} de la muestra logro encontrar el producto con una media de tiempo de {rm_avg_find_time_current} segundos.'\n",
    "      f'\\n> En el escenario test, el %{rm_total_finds_new_1} de la muestra logro encontrar el producto con una media de tiempo de {rm_avg_find_time_new_1} segundos.'\n",
    "      f'\\n\\n Como se puede observar, el porcentaje total de usuarios que encontaron el producto cae en un %{round(rm_total_finds_current - rm_total_finds_new_1,2)} y la media de tiempo para encontrar'\n",
    "      f'\\n el producto sube en {rm_avg_find_time_new_1 - rm_avg_find_time_current} segundos, incrementando en un %{rm_avg_time_variation} sobre el escenario de control.')\n",
    "\n"
   ],
   "metadata": {
    "collapsed": false,
    "pycharm": {
     "name": "#%%\n"
    }
   }
  },
  {
   "cell_type": "markdown",
   "source": [
    "## <i>Fase 3: Conclusiones</i>"
   ],
   "metadata": {
    "collapsed": false
   }
  },
  {
   "cell_type": "code",
   "source": [
    "print(f' El test realizado sobre el product {main_testing_product} arroja datos positivos sobre el rendimiento del nuevo concepto de producto. '\n",
    "      f'\\nLa ventas en el escenario del test incrementaron en un %{rm_sales_variation} mejorando el posicionamiento del producto en el planograma. De igual forma, el nuevo diseño fomentó las interacciones y conversiónes a compras, '\n",
    "      f'\\naunque se hayan detectado ciertas dificultades a la hora de encontrar el producto, los encuestados invirtieron más tiempo evaluando el producto lo cual conllevó a un incremento en el ratio de conversión.'\n",
    "      f'\\nSe recomiendo introducir comunicaciones visuales en tienda para promover el nuevo diseño de producto, ya sea en formato display o FSU.')"
   ],
   "metadata": {
    "collapsed": false,
    "pycharm": {
     "name": "#%%\n"
    }
   },
   "execution_count": 26,
   "outputs": [
    {
     "name": "stdout",
     "output_type": "stream",
     "text": [
      " El test realizado sobre el product Remy Martin 1738 arroja datos positivos sobre el rendimiento del nuevo concepto de producto. \n",
      "La ventas en el escenario del test incrementaron en un %24.14 mejorando el posicionamiento del producto en el planograma. De igual forma, el nuevo diseño fomentó las interacciones y conversiónes a compras, \n",
      "aunque se hayan detectado ciertas dificultades a la hora de encontrar el producto, los encuestados invirtieron más tiempo evaluando el producto lo cual conllevó a un incremento en el ratio de conversión.\n",
      "Se recomiendo introducir comunicaciones visuales en tienda para promover el nuevo diseño de producto, ya sea en formato display o FSU.\n"
     ]
    }
   ]
  }
 ],
 "metadata": {
  "kernelspec": {
   "name": "python3",
   "language": "python",
   "display_name": "Python 3 (ipykernel)"
  },
  "language_info": {
   "codemirror_mode": {
    "name": "ipython",
    "version": 2
   },
   "file_extension": ".py",
   "mimetype": "text/x-python",
   "name": "python",
   "nbconvert_exporter": "python",
   "pygments_lexer": "ipython2",
   "version": "2.7.6"
  }
 },
 "nbformat": 4,
 "nbformat_minor": 0
}